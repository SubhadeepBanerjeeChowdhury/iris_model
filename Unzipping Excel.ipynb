{
 "cells": [
  {
   "cell_type": "code",
   "execution_count": 8,
   "id": "be2c6982",
   "metadata": {},
   "outputs": [
    {
     "data": {
      "text/plain": [
       "[WindowsPath('C:/Users/Subhadeep/Downloads/bartrack_mns_images/multi table oxford sheet-1.png'),\n",
       " WindowsPath('C:/Users/Subhadeep/Downloads/bartrack_mns_images/multi table oxford sheet-2.png'),\n",
       " WindowsPath('C:/Users/Subhadeep/Downloads/bartrack_mns_images/multi table oxford sheet-3.png'),\n",
       " WindowsPath('C:/Users/Subhadeep/Downloads/bartrack_mns_images/multi table oxford sheet-4.png'),\n",
       " WindowsPath('C:/Users/Subhadeep/Downloads/bartrack_mns_images/multi table oxford sheet-5.png')]"
      ]
     },
     "execution_count": 8,
     "metadata": {},
     "output_type": "execute_result"
    }
   ],
   "source": [
    "import os\n",
    "import shutil\n",
    "import pathlib\n",
    "import zipfile\n",
    "\n",
    "def extract_images_from_excel(path, output_folder_name='extracted_images'):\n",
    "    \"\"\"\n",
    "    Extracts images from an Excel file and stores them in a single folder.\n",
    "\n",
    "    Args:\n",
    "        path (pathlib.Path or str): Excel file path.\n",
    "        output_folder_name (str): Name of the folder to store the extracted images.\n",
    "            Defaults to 'extracted_images'.\n",
    "\n",
    "    Returns:\n",
    "        new_paths (list[pathlib.Path]): List of paths to the extracted images.\n",
    "    \"\"\"\n",
    "    # Convert path to pathlib.Path if it's a string\n",
    "    if isinstance(path, str):\n",
    "        path = pathlib.Path(path)\n",
    "\n",
    "    # Check if the file has the '.xlsx' extension\n",
    "    if path.suffix != '.xlsx':\n",
    "        raise ValueError('Path must be an xlsx file')\n",
    "\n",
    "    # Extract the filename (excluding the extension) using .stem\n",
    "    name = path.stem\n",
    "\n",
    "    # Create a new folder for the extracted images\n",
    "    output_folder = path.parent / output_folder_name\n",
    "    output_folder.mkdir(exist_ok=True)  # Create folder if it doesn't exist\n",
    "\n",
    "    # Create a temporary directory for unzipping the Excel file\n",
    "    temp_dir = path.parent / 'temp'\n",
    "    temp_dir.mkdir(exist_ok=True)  # Create folder if it doesn't exist\n",
    "\n",
    "    try:\n",
    "        # Unzip the Excel file into the temporary directory\n",
    "        with zipfile.ZipFile(path, 'r') as zip_ref:\n",
    "            zip_ref.extractall(temp_dir)\n",
    "\n",
    "        # Locate the 'media' directory within the unzipped content\n",
    "        media_dir = temp_dir / 'xl' / 'media'\n",
    "\n",
    "        image_index = 0  # Initialize an index for the images\n",
    "        new_paths = []  # List to store the paths of the extracted images\n",
    "\n",
    "        # Iterate through the files in the 'media' directory\n",
    "        for root, dirs, files in os.walk(media_dir):\n",
    "            for file in files:\n",
    "                image_index += 1  # Increment the image index for each image found\n",
    "\n",
    "                # Construct paths for the original image and the new destination\n",
    "                image_path = pathlib.Path(root) / file\n",
    "                new_path = output_folder / f'{name}-{str(image_index)}.png'\n",
    "\n",
    "                # Copy the image to the output folder with a new name\n",
    "                shutil.copy(image_path, new_path)\n",
    "\n",
    "                # Store the new path in the list\n",
    "                new_paths.append(new_path)\n",
    "\n",
    "    finally:\n",
    "        # Cleanup: Remove the temporary directory\n",
    "        shutil.rmtree(temp_dir)\n",
    "\n",
    "    # Return the list of paths to the extracted images\n",
    "    return new_paths\n",
    "path=r\"C:\\Users\\Subhadeep\\Downloads\\multi table oxford sheet.xlsx\"\n",
    "extract_images_from_excel(path, output_folder_name='bartrack_mns_images')\n",
    "\n",
    "\n"
   ]
  },
  {
   "cell_type": "code",
   "execution_count": null,
   "id": "aa20f92b",
   "metadata": {},
   "outputs": [],
   "source": []
  },
  {
   "cell_type": "code",
   "execution_count": 20,
   "id": "7d4a0599",
   "metadata": {},
   "outputs": [],
   "source": [
    "import os\n",
    "import zipfile\n",
    "from openpyxl import load_workbook\n",
    "\n",
    "# Path to the Excel file\n",
    "excel_file_path = r\"C:\\Users\\Subhadeep\\Downloads\\multi table oxford sheet.xlsx\"\n",
    "\n",
    "# Directory to extract contents\n",
    "extracted_dir = 'C:/Users/Subhadeep/Downloads/extracted_contents'\n",
    "\n",
    "# Create a directory to extract contents\n",
    "os.makedirs(extracted_dir, exist_ok=True)\n",
    "\n",
    "# Extract the contents of the Excel file\n",
    "with zipfile.ZipFile(excel_file_path, \"r\") as zip_ref:\n",
    "    zip_ref.extractall(extracted_dir)\n",
    "\n"
   ]
  },
  {
   "cell_type": "code",
   "execution_count": null,
   "id": "a02ba5c8",
   "metadata": {},
   "outputs": [],
   "source": []
  }
 ],
 "metadata": {
  "kernelspec": {
   "display_name": "Python 3 (ipykernel)",
   "language": "python",
   "name": "python3"
  },
  "language_info": {
   "codemirror_mode": {
    "name": "ipython",
    "version": 3
   },
   "file_extension": ".py",
   "mimetype": "text/x-python",
   "name": "python",
   "nbconvert_exporter": "python",
   "pygments_lexer": "ipython3",
   "version": "3.9.7"
  }
 },
 "nbformat": 4,
 "nbformat_minor": 5
}
